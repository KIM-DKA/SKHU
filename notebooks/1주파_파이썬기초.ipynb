{
 "cells": [
  {
   "cell_type": "markdown",
   "metadata": {},
   "source": [
    "## **1주차 파이썬기초 강의 연습문제 코드**\n",
    "\n",
    "### 목차\n",
    "- 파이썬 숫자형 연습문제 \n",
    "- 파이썬 문자형 연습문제 \n",
    "- 파이썬 연산자\n",
    "- 파이썬 리스트, 튜플, 딕셔너리 연습문제 \n",
    "- 파이썬 조건문 if 연습문제 \n",
    "- 파이썬 반복문 for 연습문제 \n",
    "\n",
    "---"
   ]
  },
  {
   "cell_type": "markdown",
   "metadata": {},
   "source": [
    "### **파이썬 숫자형 연습문제**\n",
    "\n",
    "- a라는 변수에 10을 , b 라는 변수에는 3을, c 라는 변수에는 2를 할당하기 \n",
    "\n",
    "- a,b 를 이용해서 10의 세제곱 구하기 \n",
    "\n",
    "- a,c 를 이용해서 20이라는 결과값 도출하기\n",
    "\n",
    "- a,b 를 이용해서 10을 3으로 나누기 \n",
    "\n",
    "- a,c 를 이용해서 10을 2로 나눴을 때의 몫 구하기 \n",
    "\n",
    "- a,b 를 이용해서 10을 3으로 나눴을 때의 나머지 구하기 \n",
    "\n",
    "\n",
    "\n",
    "--- "
   ]
  },
  {
   "cell_type": "markdown",
   "metadata": {},
   "source": [
    "- a라는 변수에 10을 , b 라는 변수에는 3을, c 라는 변수에는 2를 할당하기 \n"
   ]
  },
  {
   "cell_type": "code",
   "execution_count": 1,
   "metadata": {},
   "outputs": [],
   "source": [
    "a = 10 \n",
    "b = 3 \n",
    "c = 2"
   ]
  },
  {
   "cell_type": "code",
   "execution_count": 6,
   "metadata": {},
   "outputs": [
    {
     "data": {
      "text/plain": [
       "2"
      ]
     },
     "execution_count": 6,
     "metadata": {},
     "output_type": "execute_result"
    }
   ],
   "source": [
    "a\n",
    "b\n",
    "c"
   ]
  },
  {
   "cell_type": "markdown",
   "metadata": {},
   "source": [
    "\n",
    "- a,b 를 이용해서 10의 세제곱 구하기 "
   ]
  },
  {
   "cell_type": "code",
   "execution_count": 2,
   "metadata": {},
   "outputs": [
    {
     "data": {
      "text/plain": [
       "1000"
      ]
     },
     "execution_count": 2,
     "metadata": {},
     "output_type": "execute_result"
    }
   ],
   "source": [
    "a**b "
   ]
  },
  {
   "cell_type": "markdown",
   "metadata": {},
   "source": [
    "\n",
    "- a,c 를 이용해서 20이라는 결과값 도출하기"
   ]
  },
  {
   "cell_type": "code",
   "execution_count": 7,
   "metadata": {},
   "outputs": [
    {
     "data": {
      "text/plain": [
       "20"
      ]
     },
     "execution_count": 7,
     "metadata": {},
     "output_type": "execute_result"
    }
   ],
   "source": [
    "a*c"
   ]
  },
  {
   "cell_type": "markdown",
   "metadata": {},
   "source": [
    "\n",
    "- a,b 를 이용해서 10을 3으로 나누기 \n"
   ]
  },
  {
   "cell_type": "code",
   "execution_count": 9,
   "metadata": {},
   "outputs": [
    {
     "data": {
      "text/plain": [
       "3.3333333333333335"
      ]
     },
     "execution_count": 9,
     "metadata": {},
     "output_type": "execute_result"
    }
   ],
   "source": [
    "a/b"
   ]
  },
  {
   "cell_type": "markdown",
   "metadata": {},
   "source": [
    "\n",
    "- a,c 를 이용해서 10을 2로 나눴을 때의 몫 구하기 "
   ]
  },
  {
   "cell_type": "code",
   "execution_count": 10,
   "metadata": {},
   "outputs": [
    {
     "data": {
      "text/plain": [
       "5"
      ]
     },
     "execution_count": 10,
     "metadata": {},
     "output_type": "execute_result"
    }
   ],
   "source": [
    "a//c"
   ]
  },
  {
   "cell_type": "markdown",
   "metadata": {},
   "source": [
    "\n",
    "- a,b 를 이용해서 10을 3으로 나눴을 때의 나머지 구하기 "
   ]
  },
  {
   "cell_type": "code",
   "execution_count": 11,
   "metadata": {},
   "outputs": [
    {
     "data": {
      "text/plain": [
       "1"
      ]
     },
     "execution_count": 11,
     "metadata": {},
     "output_type": "execute_result"
    }
   ],
   "source": [
    "a % 3"
   ]
  },
  {
   "cell_type": "markdown",
   "metadata": {},
   "source": [
    "\n",
    "### **파이썬 문자형 연습문제**\n",
    "\n",
    "아래 문자를 str_line이라는 변수를 만들어 문자열 할당하기\n",
    "\n",
    "- 인덱스를 이용하여 위 문자열 변수를 이용하여 ‘Lotto’ 라는 문자 만들기 \n",
    "\n",
    "- 슬라이싱을 이용하여 ‘too short,’ 문자열 추출하기 (맨 뒤에 콤마 포함)\n",
    "\n",
    "- 추출한 문자를 extract_line이라는 변수에 할당하기 \n",
    "\n",
    "- find 함수를 이용하여 extract_line  변수에 ‘,’ 문자가 문자열의 몇번 째 위치에 있는지 확인하기\n",
    "\n",
    "- replace 함수를 이용하여 extract_line 변수의 ‘,’ 문자를 ’’인 공란으로 변경하기 \n",
    "\n",
    "- 원래 extract_line 함수를 다시 실행해서 실제 ’,’ 가 공란으로 변경되어 있는지 확인하기 \n",
    "\n",
    "- split함수를 사용하여 공백을 기준으로 문자열 나누기 \n",
    "\n",
    "\n",
    "---"
   ]
  },
  {
   "cell_type": "code",
   "execution_count": 12,
   "metadata": {},
   "outputs": [],
   "source": [
    "str_line = \"Life is too short, You need Python\""
   ]
  },
  {
   "cell_type": "markdown",
   "metadata": {},
   "source": [
    "\n",
    "- 인덱스를 이용하여 위 문자열 변수를 이용하여 ‘Lotto’ 라는 문자 만들기 "
   ]
  },
  {
   "cell_type": "code",
   "execution_count": 15,
   "metadata": {},
   "outputs": [
    {
     "data": {
      "text/plain": [
       "9"
      ]
     },
     "execution_count": 15,
     "metadata": {},
     "output_type": "execute_result"
    }
   ],
   "source": [
    "str_line.index('o')"
   ]
  },
  {
   "cell_type": "code",
   "execution_count": 18,
   "metadata": {},
   "outputs": [
    {
     "data": {
      "text/plain": [
       "'Lotto'"
      ]
     },
     "execution_count": 18,
     "metadata": {},
     "output_type": "execute_result"
    }
   ],
   "source": [
    "str_line[0] + str_line[9] + str_line[8]*2 + str_line[9]"
   ]
  },
  {
   "cell_type": "markdown",
   "metadata": {},
   "source": [
    "\n",
    "- 슬라이싱을 이용하여 ‘too short,’ 문자열 추출하기"
   ]
  },
  {
   "cell_type": "code",
   "execution_count": 23,
   "metadata": {},
   "outputs": [
    {
     "data": {
      "text/plain": [
       "(8, 17)"
      ]
     },
     "execution_count": 23,
     "metadata": {},
     "output_type": "execute_result"
    }
   ],
   "source": [
    "str_line.index('t'), str_line.index(',')"
   ]
  },
  {
   "cell_type": "code",
   "execution_count": 26,
   "metadata": {},
   "outputs": [
    {
     "data": {
      "text/plain": [
       "'too short,'"
      ]
     },
     "execution_count": 26,
     "metadata": {},
     "output_type": "execute_result"
    }
   ],
   "source": [
    "str_line[8:18]"
   ]
  },
  {
   "cell_type": "markdown",
   "metadata": {},
   "source": [
    "\n",
    "- 추출한 문자를 extract_line이라는 변수에 할당하기"
   ]
  },
  {
   "cell_type": "code",
   "execution_count": 27,
   "metadata": {},
   "outputs": [],
   "source": [
    "extract_line = str_line[8:18]"
   ]
  },
  {
   "cell_type": "markdown",
   "metadata": {},
   "source": [
    "\n",
    "- find 함수를 이용하여 extract_line  변수에 ‘,’ 문자가 문자열의 몇번 째 위치에 있는지 확인하기"
   ]
  },
  {
   "cell_type": "code",
   "execution_count": 28,
   "metadata": {},
   "outputs": [
    {
     "data": {
      "text/plain": [
       "9"
      ]
     },
     "execution_count": 28,
     "metadata": {},
     "output_type": "execute_result"
    }
   ],
   "source": [
    "extract_line.find(',')"
   ]
  },
  {
   "cell_type": "code",
   "execution_count": 30,
   "metadata": {},
   "outputs": [
    {
     "data": {
      "text/plain": [
       "','"
      ]
     },
     "execution_count": 30,
     "metadata": {},
     "output_type": "execute_result"
    }
   ],
   "source": [
    "extract_line[9]"
   ]
  },
  {
   "cell_type": "markdown",
   "metadata": {},
   "source": [
    "\n",
    "- replace 함수를 이용하여 extract_line 변수의 ‘,’ 문자를 ’’인 공란으로 변경하기 "
   ]
  },
  {
   "cell_type": "code",
   "execution_count": 31,
   "metadata": {},
   "outputs": [
    {
     "data": {
      "text/plain": [
       "'too short'"
      ]
     },
     "execution_count": 31,
     "metadata": {},
     "output_type": "execute_result"
    }
   ],
   "source": [
    "extract_line.replace(',','')"
   ]
  },
  {
   "cell_type": "markdown",
   "metadata": {},
   "source": [
    "\n",
    "- 원래 extract_line 함수를 다시 실행해서 실제 ’,’ 가 공란으로 변경되어 있는지 확인하기 "
   ]
  },
  {
   "cell_type": "code",
   "execution_count": 32,
   "metadata": {},
   "outputs": [
    {
     "data": {
      "text/plain": [
       "'too short,'"
      ]
     },
     "execution_count": 32,
     "metadata": {},
     "output_type": "execute_result"
    }
   ],
   "source": [
    "extract_line"
   ]
  },
  {
   "cell_type": "markdown",
   "metadata": {},
   "source": [
    "\n",
    "- split함수를 사용하여 공백을 기준으로 문자열 나누기 \n"
   ]
  },
  {
   "cell_type": "code",
   "execution_count": 33,
   "metadata": {},
   "outputs": [
    {
     "data": {
      "text/plain": [
       "['too', 'short,']"
      ]
     },
     "execution_count": 33,
     "metadata": {},
     "output_type": "execute_result"
    }
   ],
   "source": [
    "extract_line.split(' ')"
   ]
  },
  {
   "cell_type": "markdown",
   "metadata": {},
   "source": [
    "### **파이썬 연산자 연습문제**\n",
    "\n",
    "- 변수 a,b 가 각각 10과 5 일때 a가b 보다 큰지 확인하기\n",
    "\n",
    "- 변수 a가 8보다 크고 10보다 작거나 같은지 확인하기 ( 8 < a <= 10) \n",
    "\n",
    "- 변수 a가 짝수인지 (힌트 : 몫과 나머지) 확인하는 코드를 작성\n",
    "\n",
    "- s1  =  ‘abc’ 이고 s2 = ‘def’일 때 두 문자열이 같은지 확인하기\n",
    "\n",
    "- 변수 a가 0이 아닌지  확인하기\n",
    "\n",
    "- 변수 b가 5인지 확인 하기\n",
    "\n",
    "\n",
    "--- "
   ]
  },
  {
   "cell_type": "markdown",
   "metadata": {},
   "source": [
    "\n",
    "- 변수 a,b 가 각각 10과 5 일때 a가b 보다 큰지 확인하기\n"
   ]
  },
  {
   "cell_type": "code",
   "execution_count": 34,
   "metadata": {},
   "outputs": [],
   "source": [
    "a = 10 \n",
    "b = 5 "
   ]
  },
  {
   "cell_type": "code",
   "execution_count": 35,
   "metadata": {},
   "outputs": [
    {
     "data": {
      "text/plain": [
       "True"
      ]
     },
     "execution_count": 35,
     "metadata": {},
     "output_type": "execute_result"
    }
   ],
   "source": [
    "a > b"
   ]
  },
  {
   "cell_type": "markdown",
   "metadata": {},
   "source": [
    "\n",
    "- 변수 a가 8보다 크고 10보다 작거나 같은지 확인하기 ( 8 < a <= 10) "
   ]
  },
  {
   "cell_type": "code",
   "execution_count": 37,
   "metadata": {},
   "outputs": [
    {
     "data": {
      "text/plain": [
       "True"
      ]
     },
     "execution_count": 37,
     "metadata": {},
     "output_type": "execute_result"
    }
   ],
   "source": [
    "8 < a <= 10"
   ]
  },
  {
   "cell_type": "code",
   "execution_count": 39,
   "metadata": {},
   "outputs": [
    {
     "data": {
      "text/plain": [
       "True"
      ]
     },
     "execution_count": 39,
     "metadata": {},
     "output_type": "execute_result"
    }
   ],
   "source": [
    "# 연산자를 배운 후 \n",
    "a > 8 and  a <= 10"
   ]
  },
  {
   "cell_type": "markdown",
   "metadata": {},
   "source": [
    "\n",
    "- 변수 a가 짝수인지 (힌트 : 몫과 나머지) 확인하는 코드를 작성"
   ]
  },
  {
   "cell_type": "code",
   "execution_count": 41,
   "metadata": {},
   "outputs": [
    {
     "data": {
      "text/plain": [
       "True"
      ]
     },
     "execution_count": 41,
     "metadata": {},
     "output_type": "execute_result"
    }
   ],
   "source": [
    "a % 2 == 0"
   ]
  },
  {
   "cell_type": "markdown",
   "metadata": {},
   "source": [
    "\n",
    "- s1  =  ‘abc’ 이고 s2 = ‘def’일 때 두 문자열이 같은지 확인하기"
   ]
  },
  {
   "cell_type": "code",
   "execution_count": 42,
   "metadata": {},
   "outputs": [],
   "source": [
    "s1 = 'abc'\n",
    "s2 = 'def'"
   ]
  },
  {
   "cell_type": "code",
   "execution_count": 43,
   "metadata": {},
   "outputs": [
    {
     "data": {
      "text/plain": [
       "False"
      ]
     },
     "execution_count": 43,
     "metadata": {},
     "output_type": "execute_result"
    }
   ],
   "source": [
    "s1 == s2"
   ]
  },
  {
   "cell_type": "markdown",
   "metadata": {},
   "source": [
    "\n",
    "- 변수 a가 0이 아닌지  확인하기\n"
   ]
  },
  {
   "cell_type": "code",
   "execution_count": 45,
   "metadata": {},
   "outputs": [
    {
     "data": {
      "text/plain": [
       "False"
      ]
     },
     "execution_count": 45,
     "metadata": {},
     "output_type": "execute_result"
    }
   ],
   "source": [
    "a == 0 "
   ]
  },
  {
   "cell_type": "markdown",
   "metadata": {},
   "source": [
    "- 변수 b가 5인지 확인 하기"
   ]
  },
  {
   "cell_type": "code",
   "execution_count": 46,
   "metadata": {},
   "outputs": [
    {
     "data": {
      "text/plain": [
       "True"
      ]
     },
     "execution_count": 46,
     "metadata": {},
     "output_type": "execute_result"
    }
   ],
   "source": [
    "b == 5"
   ]
  },
  {
   "cell_type": "markdown",
   "metadata": {},
   "source": [
    "\n",
    "### **파이썬 리스트,튜플,딕셔너리 연습문제**\n",
    "\n",
    "\n",
    "- 리스트 생성: 1부터 10까지의 정수를 원소로 갖는 리스트를 생성하시오.\n",
    "- 리스트 슬라이싱: 위에서 생성한 리스트의 첫 5개 원소를 슬라이싱하시오.\n",
    "- 리스트 값 추가: 위에서 생성한 리스트에 11, 12, 13을 추가하시오.\n",
    "- 리스트 정렬: 위에서 생성한 리스트를 정렬하시오.\n",
    "\n",
    "- 튜플 생성: 'a', 'b', 'c'를 원소로 갖는 튜플을 생성하시오.\n",
    "- 튜플 값 억세스: 위에서 생성한 튜플의 첫 번째 원소를 억세스하시오.\n",
    "- 튜플과 리스트 변환: 위에서 생성한 튜플을 리스트로 변환하고, 다시 튜플로 변환하시오.\n",
    "\n",
    "- 딕셔너리 생성: 'name' 키에는 'Alice', 'age' 키에는 30을 값으로 갖는 딕셔너리를 생성하시오.\n",
    "- 딕셔너리 값 억세스: 위에서 생성한 딕셔너리에서 'name' 키의 값을 억세스하시오.\n",
    "- 딕셔너리 값 변경: 위에서 생성한 딕셔너리에서 'age' 키의 값을 31로 변경하시오.\n",
    "- 딕셔너리 값 추가: 위에서 생성한 딕셔너리에 'country' 키와 'USA' 값을 추가하시오.\n",
    "- 딕셔너리 키-값 쌍 억세스: 위에서 생성한 딕셔너리의 모든 키와 값을 출력하시오.\n",
    "- 딕셔너리 키-값 쌍 삭제: 위에서 생성한 딕셔너리에서 'country' 키와 해당 값을 삭제하시오.\n",
    "- 딕셔너리와 리스트 변환: 위에서 생성한 딕셔너리의 키를 리스트로 변환 하시오\n",
    "\n",
    "---"
   ]
  },
  {
   "cell_type": "markdown",
   "metadata": {},
   "source": [
    "\n",
    "- 리스트 생성: 1부터 10까지의 정수를 원소로 갖는 리스트를 생성하시오.\n"
   ]
  },
  {
   "cell_type": "code",
   "execution_count": 52,
   "metadata": {},
   "outputs": [],
   "source": [
    "l1 = [1,2,3,4,5,6,7,8,9,10] "
   ]
  },
  {
   "cell_type": "code",
   "execution_count": 48,
   "metadata": {},
   "outputs": [
    {
     "data": {
      "text/plain": [
       "[1, 2, 3, 4, 5, 6, 7, 8, 9, 10]"
      ]
     },
     "execution_count": 48,
     "metadata": {},
     "output_type": "execute_result"
    }
   ],
   "source": [
    "l1 "
   ]
  },
  {
   "cell_type": "markdown",
   "metadata": {},
   "source": [
    "- 리스트 슬라이싱: 위에서 생성한 리스트의 첫 5개 원소를 슬라이싱하시오.\n"
   ]
  },
  {
   "cell_type": "code",
   "execution_count": 49,
   "metadata": {},
   "outputs": [
    {
     "data": {
      "text/plain": [
       "[1, 2, 3, 4, 5]"
      ]
     },
     "execution_count": 49,
     "metadata": {},
     "output_type": "execute_result"
    }
   ],
   "source": [
    "l1[0:5]"
   ]
  },
  {
   "cell_type": "markdown",
   "metadata": {},
   "source": [
    "- 리스트 값 추가: 위에서 생성한 리스트에 11, 12, 13을 추가하시오.\n"
   ]
  },
  {
   "cell_type": "code",
   "execution_count": 58,
   "metadata": {},
   "outputs": [
    {
     "data": {
      "text/plain": [
       "[1, 2, 3, 4, 5, 6, 7, 8, 9, 10, 13, 12, 11]"
      ]
     },
     "execution_count": 58,
     "metadata": {},
     "output_type": "execute_result"
    }
   ],
   "source": [
    "l1.append(13)\n",
    "l1.append(12)\n",
    "l1.append(11)\n",
    "\n",
    "l1 \n"
   ]
  },
  {
   "cell_type": "markdown",
   "metadata": {},
   "source": [
    "- 리스트 정렬: 위에서 생성한 리스트를 정렬하시오.\n"
   ]
  },
  {
   "cell_type": "code",
   "execution_count": 61,
   "metadata": {},
   "outputs": [
    {
     "data": {
      "text/plain": [
       "[1, 2, 3, 4, 5, 6, 7, 8, 9, 10, 11, 12, 13]"
      ]
     },
     "execution_count": 61,
     "metadata": {},
     "output_type": "execute_result"
    }
   ],
   "source": [
    "l1.sort()\n",
    "l1 "
   ]
  },
  {
   "cell_type": "markdown",
   "metadata": {},
   "source": [
    "\n",
    "- 튜플 생성: 'a', 'b', 'c'를 원소로 갖는 튜플을 생성하시오."
   ]
  },
  {
   "cell_type": "code",
   "execution_count": 62,
   "metadata": {},
   "outputs": [],
   "source": [
    "t1 = ('a','b','c') "
   ]
  },
  {
   "cell_type": "markdown",
   "metadata": {},
   "source": [
    "- 튜플 값 억세스: 위에서 생성한 튜플의 첫 번째 원소를 억세스하시오.\n"
   ]
  },
  {
   "cell_type": "code",
   "execution_count": 63,
   "metadata": {},
   "outputs": [
    {
     "data": {
      "text/plain": [
       "'a'"
      ]
     },
     "execution_count": 63,
     "metadata": {},
     "output_type": "execute_result"
    }
   ],
   "source": [
    "t1[0]"
   ]
  },
  {
   "cell_type": "markdown",
   "metadata": {},
   "source": [
    "- 튜플과 리스트 변환: 위에서 생성한 튜플을 리스트로 변환하고, 다시 튜플로 변환하시오.\n"
   ]
  },
  {
   "cell_type": "code",
   "execution_count": 64,
   "metadata": {},
   "outputs": [
    {
     "data": {
      "text/plain": [
       "['a', 'b', 'c']"
      ]
     },
     "execution_count": 64,
     "metadata": {},
     "output_type": "execute_result"
    }
   ],
   "source": [
    "l2 = list(t1) \n",
    "l2 "
   ]
  },
  {
   "cell_type": "markdown",
   "metadata": {},
   "source": [
    "\n",
    "- 딕셔너리 생성: 'name' 키에는 'Alice', 'age' 키에는 30을 값으로 갖는 딕셔너리를 생성하시오.\n"
   ]
  },
  {
   "cell_type": "code",
   "execution_count": 65,
   "metadata": {},
   "outputs": [],
   "source": [
    "d1 = {\n",
    "    'name': 'Alice', \n",
    "    'age': 30\n",
    "}"
   ]
  },
  {
   "cell_type": "markdown",
   "metadata": {},
   "source": [
    "- 딕셔너리 값 억세스: 위에서 생성한 딕셔너리에서 'name' 키의 값을 억세스하시오.\n"
   ]
  },
  {
   "cell_type": "code",
   "execution_count": 66,
   "metadata": {},
   "outputs": [
    {
     "data": {
      "text/plain": [
       "'Alice'"
      ]
     },
     "execution_count": 66,
     "metadata": {},
     "output_type": "execute_result"
    }
   ],
   "source": [
    "d1['name']"
   ]
  },
  {
   "cell_type": "markdown",
   "metadata": {},
   "source": [
    "- 딕셔너리 값 변경: 위에서 생성한 딕셔너리에서 'age' 키의 값을 31로 변경하시오."
   ]
  },
  {
   "cell_type": "code",
   "execution_count": 67,
   "metadata": {},
   "outputs": [
    {
     "data": {
      "text/plain": [
       "{'name': 'Alice', 'age': 31}"
      ]
     },
     "execution_count": 67,
     "metadata": {},
     "output_type": "execute_result"
    }
   ],
   "source": [
    "d1['age'] = 31\n",
    "d1 "
   ]
  },
  {
   "cell_type": "markdown",
   "metadata": {},
   "source": [
    "- 딕셔너리 값 추가: 위에서 생성한 딕셔너리에 'country' 키와 'USA' 값을 추가하시오."
   ]
  },
  {
   "cell_type": "code",
   "execution_count": 69,
   "metadata": {},
   "outputs": [],
   "source": [
    "d1['country'] = 'USA'"
   ]
  },
  {
   "cell_type": "markdown",
   "metadata": {},
   "source": [
    "- 딕셔너리 키-값 쌍 억세스: 위에서 생성한 딕셔너리의 모든 키와 값을 출력하시오.\n"
   ]
  },
  {
   "cell_type": "code",
   "execution_count": 70,
   "metadata": {},
   "outputs": [
    {
     "data": {
      "text/plain": [
       "dict_items([('name', 'Alice'), ('age', 31), ('country', 'USA')])"
      ]
     },
     "execution_count": 70,
     "metadata": {},
     "output_type": "execute_result"
    }
   ],
   "source": [
    "d1.items()"
   ]
  },
  {
   "cell_type": "markdown",
   "metadata": {},
   "source": [
    "- 딕셔너리 키-값 쌍 삭제: 위에서 생성한 딕셔너리에서 'country' 키와 해당 값을 삭제하시오.\n"
   ]
  },
  {
   "cell_type": "code",
   "execution_count": 71,
   "metadata": {},
   "outputs": [
    {
     "data": {
      "text/plain": [
       "{'name': 'Alice', 'age': 31}"
      ]
     },
     "execution_count": 71,
     "metadata": {},
     "output_type": "execute_result"
    }
   ],
   "source": [
    "del d1['country']\n",
    "d1 "
   ]
  },
  {
   "cell_type": "markdown",
   "metadata": {},
   "source": [
    "- 딕셔너리와 리스트 변환: 위에서 생성한 딕셔너리의 키를 리스트로 변환 하시오"
   ]
  },
  {
   "cell_type": "code",
   "execution_count": 72,
   "metadata": {},
   "outputs": [
    {
     "data": {
      "text/plain": [
       "['name', 'age']"
      ]
     },
     "execution_count": 72,
     "metadata": {},
     "output_type": "execute_result"
    }
   ],
   "source": [
    "list(d1.keys())"
   ]
  },
  {
   "cell_type": "markdown",
   "metadata": {},
   "source": [
    "\n",
    "### **파이썬 조건문 if 연습문제**\n",
    "\n",
    "\n",
    "- a 가 양수, 음수, 0인지 판별하는 조건문을 작성하세요. \n",
    "\n",
    "- a 가 짝수인지 홀수인지 판별하는 조건문을 작성하세요. (Hint: 산술 연산자에서 나머지 연산자 % 사용) \n",
    "\n",
    "- a,b  두 숫자 중 어느 숫자가 더 큰지 판별하는 조건문을 작성하세요. (Hint: 비교 연산자 사용)\n",
    "\n",
    "- s1이 [‘택시’,’버스’] 에 포함되면 ‘공공’ 을 아니면 ‘자가’ 로 출력하는 조건문을 작성하세요. (Hint: in 사용) \n",
    "\n",
    "- s1이 [‘택시’,’버스’] 에 포함되고 s2도 포함되면 ‘공공만 사용’을 아니면 ‘자가도 사용’ 를 출력하는 조건문 작성 (Hint: and사용)\n",
    "\n",
    "\n",
    "---"
   ]
  },
  {
   "cell_type": "code",
   "execution_count": 74,
   "metadata": {},
   "outputs": [],
   "source": [
    "a = 10\n",
    "b = -1\n",
    "s1 = '택시' \n",
    "s2 = '버스' "
   ]
  },
  {
   "cell_type": "markdown",
   "metadata": {},
   "source": [
    "- a 가 양수, 음수, 0인지 판별하는 조건문을 작성하세요. "
   ]
  },
  {
   "cell_type": "code",
   "execution_count": 75,
   "metadata": {},
   "outputs": [
    {
     "name": "stdout",
     "output_type": "stream",
     "text": [
      "양수\n"
     ]
    }
   ],
   "source": [
    "if a > 0: \n",
    "    print('양수')\n",
    "\n",
    "elif a < 0: \n",
    "    print('음수')\n",
    "\n",
    "else: \n",
    "    print('0')"
   ]
  },
  {
   "cell_type": "markdown",
   "metadata": {},
   "source": [
    "\n",
    "- a 가 짝수인지 홀수인지 판별하는 조건문을 작성하세요. (Hint: 산술 연산자에서 나머지 연산자 % 사용) \n"
   ]
  },
  {
   "cell_type": "code",
   "execution_count": 76,
   "metadata": {},
   "outputs": [
    {
     "name": "stdout",
     "output_type": "stream",
     "text": [
      "짝수\n"
     ]
    }
   ],
   "source": [
    "if a % 2 == 0: \n",
    "    print('짝수')\n",
    "else: \n",
    "    print('홀수')"
   ]
  },
  {
   "cell_type": "markdown",
   "metadata": {},
   "source": [
    "\n",
    "- a,b  두 숫자 중 어느 숫자가 더 큰지 판별하는 조건문을 작성하세요. (Hint: 비교 연산자 사용)"
   ]
  },
  {
   "cell_type": "code",
   "execution_count": 77,
   "metadata": {},
   "outputs": [
    {
     "name": "stdout",
     "output_type": "stream",
     "text": [
      "a가b 보다 크다\n"
     ]
    }
   ],
   "source": [
    "if a > b: \n",
    "    print('a가b 보다 크다')\n",
    "else: \n",
    "    print('b가a 보다 크다')"
   ]
  },
  {
   "cell_type": "markdown",
   "metadata": {},
   "source": [
    "\n",
    "- s1이 [‘택시’,’버스’] 에 포함되면 ‘공공’ 을 아니면 ‘자가’ 로 출력하는 조건문을 작성하세요. (Hint: in 사용) "
   ]
  },
  {
   "cell_type": "code",
   "execution_count": 78,
   "metadata": {},
   "outputs": [
    {
     "name": "stdout",
     "output_type": "stream",
     "text": [
      "공공\n"
     ]
    }
   ],
   "source": [
    "if s1 in ['택시','버스']: \n",
    "    print('공공')\n",
    "else: \n",
    "    print('자가')"
   ]
  },
  {
   "cell_type": "markdown",
   "metadata": {},
   "source": [
    "\n",
    "- s1이 [‘택시’,’버스’] 에 포함되고 s2도 포함되면 ‘공공만 사용’을 아니면 ‘자가도 사용’ 를 출력하는 조건문 작성 (Hint: and사용)\n"
   ]
  },
  {
   "cell_type": "code",
   "execution_count": 82,
   "metadata": {},
   "outputs": [
    {
     "name": "stdout",
     "output_type": "stream",
     "text": [
      "공공만 사용\n"
     ]
    }
   ],
   "source": [
    "if s1 in ['택시','버스'] and s2 in ['택시','버스']: \n",
    "    print('공공만 사용')\n",
    "else: \n",
    "    print('자가도 사용')"
   ]
  },
  {
   "cell_type": "markdown",
   "metadata": {},
   "source": [
    "\n",
    "### **파이썬 반복문 for 연습문제**\n",
    "\n",
    "- 1부터 30까지의 숫자를 출력하는 반복문을 작성\n",
    "\n",
    "- 1부터 10까지의 숫자중 짝수만 출력하도록 반복문과 조건문을 사용하여 작성\n",
    "\n",
    "- 아래 딕셔너리 데이터에서 반복문을 사용하여 key 값만 출력하도록 작성\n",
    "\n",
    "- 아래 딕셔너리 데이터에서 반복문을 사용하여 value 값만 출력하도록 작성\n",
    "\n",
    "- 아래 튜플 데이터를 사용하여 튜플의 모든 문자를 출력하도록 작성\n",
    "\n",
    "\n",
    "---"
   ]
  },
  {
   "cell_type": "code",
   "execution_count": 83,
   "metadata": {},
   "outputs": [],
   "source": [
    "## 데이터 \n",
    "\n",
    "dict_data = {\n",
    "    'A': 1, \n",
    "    'B': 2, \n",
    "    'C': 3, \n",
    "    'D': 4\n",
    "}\n",
    "\n",
    "tuple_data = (\n",
    "    '고',\n",
    "    '생',\n",
    "    '하',\n",
    "    '셨',\n",
    "    '습',\n",
    "    '니',\n",
    "    '다'\n",
    ") \n",
    "\n"
   ]
  },
  {
   "cell_type": "markdown",
   "metadata": {},
   "source": [
    "\n",
    "- 1부터 30까지의 숫자를 출력하는 반복문을 작성"
   ]
  },
  {
   "cell_type": "code",
   "execution_count": 84,
   "metadata": {},
   "outputs": [
    {
     "name": "stdout",
     "output_type": "stream",
     "text": [
      "1\n",
      "2\n",
      "3\n",
      "4\n",
      "5\n",
      "6\n",
      "7\n",
      "8\n",
      "9\n",
      "10\n",
      "11\n",
      "12\n",
      "13\n",
      "14\n",
      "15\n",
      "16\n",
      "17\n",
      "18\n",
      "19\n",
      "20\n",
      "21\n",
      "22\n",
      "23\n",
      "24\n",
      "25\n",
      "26\n",
      "27\n",
      "28\n",
      "29\n",
      "30\n"
     ]
    }
   ],
   "source": [
    "for i in range(1,31): \n",
    "    print(i)"
   ]
  },
  {
   "cell_type": "markdown",
   "metadata": {},
   "source": [
    "\n",
    "- 1부터 10까지의 숫자중 짝수만 출력하도록 반복문과 조건문을 사용하여 작성\n"
   ]
  },
  {
   "cell_type": "code",
   "execution_count": 85,
   "metadata": {},
   "outputs": [
    {
     "name": "stdout",
     "output_type": "stream",
     "text": [
      "2\n",
      "4\n",
      "6\n",
      "8\n",
      "10\n"
     ]
    }
   ],
   "source": [
    "for i in range(1,11): \n",
    "    if i % 2 == 0: \n",
    "        print(i)\n",
    "    "
   ]
  },
  {
   "cell_type": "markdown",
   "metadata": {},
   "source": [
    "\n",
    "- 딕셔너리 데이터에서 반복문을 사용하여 key 값만 출력하도록 작성"
   ]
  },
  {
   "cell_type": "code",
   "execution_count": 88,
   "metadata": {},
   "outputs": [
    {
     "name": "stdout",
     "output_type": "stream",
     "text": [
      "A\n",
      "B\n",
      "C\n",
      "D\n"
     ]
    }
   ],
   "source": [
    "\n",
    "for k in dict_data.keys(): \n",
    "    print(k)\n"
   ]
  },
  {
   "cell_type": "markdown",
   "metadata": {},
   "source": [
    "\n",
    "- 아레 딕셔너리 데이터에서 반복문을 사용하여 value 값만 출력하도록 작성"
   ]
  },
  {
   "cell_type": "code",
   "execution_count": 89,
   "metadata": {},
   "outputs": [
    {
     "name": "stdout",
     "output_type": "stream",
     "text": [
      "1\n",
      "2\n",
      "3\n",
      "4\n"
     ]
    }
   ],
   "source": [
    "\n",
    "for v in dict_data.values(): \n",
    "    print(v)\n"
   ]
  },
  {
   "cell_type": "markdown",
   "metadata": {},
   "source": [
    "\n",
    "- 아래 튜플 데이터를 사용하여 튜플의 모든 문자를 출력하도록 작성"
   ]
  },
  {
   "cell_type": "code",
   "execution_count": 90,
   "metadata": {},
   "outputs": [
    {
     "name": "stdout",
     "output_type": "stream",
     "text": [
      "고\n",
      "생\n",
      "하\n",
      "셨\n",
      "습\n",
      "니\n",
      "다\n"
     ]
    }
   ],
   "source": [
    "for t in tuple_data: \n",
    "    print(t)"
   ]
  }
 ],
 "metadata": {
  "kernelspec": {
   "display_name": "Python 3.9.6 64-bit",
   "language": "python",
   "name": "python3"
  },
  "language_info": {
   "codemirror_mode": {
    "name": "ipython",
    "version": 3
   },
   "file_extension": ".py",
   "mimetype": "text/x-python",
   "name": "python",
   "nbconvert_exporter": "python",
   "pygments_lexer": "ipython3",
   "version": "3.9.6"
  },
  "orig_nbformat": 4,
  "vscode": {
   "interpreter": {
    "hash": "31f2aee4e71d21fbe5cf8b01ff0e069b9275f58929596ceb00d14d90e3e16cd6"
   }
  }
 },
 "nbformat": 4,
 "nbformat_minor": 2
}
